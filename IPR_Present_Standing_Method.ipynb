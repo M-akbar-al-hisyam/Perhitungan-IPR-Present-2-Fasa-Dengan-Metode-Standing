{
 "cells": [
  {
   "cell_type": "code",
   "execution_count": 1,
   "id": "e69e86e8",
   "metadata": {},
   "outputs": [],
   "source": [
    "def standing(): #Fungsi yang dibuat agar ketika dijalankan fungsi tersebut akan mulai mengerjakan program perhitungan IPR present 2 fasa dengan metode Standing.\n",
    "    print(\"Pilih data laju alir yang tidak diketahui :\")\n",
    "    print(\"1. Laju alir (Q)\")\n",
    "    print(\"2. Laju alir maksimum (Qmax)\")\n",
    "    pla = input(\"Pilihan laju alir yang tidak diketahui (1/2) : \") #masukkan angka 1 atau 2 dari 2 pilihan laju alir diatas yang tidak diketahui.\n",
    "    if pla == \"1\": #Jika memasukkan angka 1, maka akan dicari nilai laju alir pada tekanan bottomhole yang akan dimasukkan.\n",
    "        Qmax = float(input(\"Masukkan nilai Qmax (bpd) : \")) #masukkan nilai laju alir maksimum.\n",
    "        Pwf = float(input(\"Masukkan nilai Pwf (psi) : \")) #masukkan nilai tekanan bottomhole.\n",
    "        FE = float(input(\"Masukkan nilai Flow Efficiency (FE) : \")) #masukkan nilai flow efficiency yang dipengaruhi oleh skin. \n",
    "        print(\"Pilih dari 2 tekanan yang tersedia. Jika data dari kedua tekanan tersebut tersedia, pilih tekanan reservoir :\")\n",
    "        print(\"1. Tekanan Reservoir (Pr)\")\n",
    "        print(\"2. Tekanan Statik Sumur (Ps)\")\n",
    "        pressure = input(\"Pilih salah satu tekanan yang ada di atas : \") #masukkan angka 1 atau 2 dari 2 pilihan tekanan diatas yang diketahui. Pilih angka 1 jika nilai kedua data tersebut diketahui.\n",
    "        if pressure == \"1\": \n",
    "            Pr = float(input(\"Masukkan nilai Pr (psi): \")) #masukkan nilai tekanan reservoir.\n",
    "            Pwf1 = Pr - FE * (Pr - Pwf) #rumus untuk mencari nilai tekanan bottomhole yang dipengaruhi oleh skin.\n",
    "            print(\"Didapatkan nilai Pwf1 adalah \", str(Pwf1), \" psi\") #value Pwf1 yang ditunjukkan berupa string.\n",
    "            Q = Qmax * (1 - 0.2 * (Pwf1 / Pr) - 0.8 * (Pwf1 / Pr) ** 2) #rumus korelasi standing antara laju alir dengan tekanan bottomhole dan tekanan reservoir.\n",
    "            print(\"Didapatkan nilai Q pada tekanan Pwf \" + str(Pwf) + \" psi adalah \" + str(Q) + \" bpd.\") #value Pwf dan Q yang ditunjukkan berupa string.\n",
    "        \n",
    "        elif pressure == \"2\":\n",
    "            Ps = float(input(\"Masukkan nilai Ps (psi): \")) #masukkan nilai tekanan statik sumur.\n",
    "            Pwf1 = Ps - FE * (Ps - Pwf) #rumus untuk mencari nilai tekanan bottomhole yang dipengaruhi oleh skin.\n",
    "            print(\"Didapatkan nilai Pwf1 adalah \" + str(Pwf1) + \" psi.\") #value Pwf1 yang ditunjukkan berupa string.\n",
    "            Q = Qmax * (1 - 0.2 * (Pwf1 / Ps) - 0.8 * (Pwf1 / Ps) ** 2) #rumus korelasi standing antara laju alir dengan tekanan bottomhole dan tekanan statik sumur.\n",
    "            print(\"Didapatkan nilai Q pada tekanan Pwf \" + str(Pwf) + \" psi adalah \" + str(Q) + \" bpd.\") #value Pwf dan Q yang ditunjukkan berupa string.\n",
    "        \n",
    "        else: #Jika memasukkan sesuatu selain angka 1 atau 2, maka program akan diberhentikan dengan memunculkan pesan sebagai berikut. \n",
    "            return \"Maaf. Pilihan anda tidak tersedia.\"\n",
    "    \n",
    "    elif pla == \"2\": #Jika memasukkan angka 2, maka akan dicari nilai laju alir maksimum.\n",
    "        Q = float(input(\"Masukkan nilai Q (bpd) : \")) #masukkan nilai laju alir pada tekanan bottomhole yang akan dimasukkan. \n",
    "        Pwf = float(input(\"Masukkan nilai Pwf (psi) : \")) #masukkan nilai tekanan bottomhole.\n",
    "        FE = float(input(\"Masukkan nilai Flow Efficiency (FE) : \")) #masukkan nilai flow efficiency yang dipengaruhi oleh skin.\n",
    "        print(\"Pilih dari 2 tekanan yang tersedia. Jika data dari kedua tekanan tersebut tersedia, pilih tekanan reservoir :\")\n",
    "        print(\"1. Tekanan Reservoir (Pr)\")\n",
    "        print(\"2. Tekanan Statik Sumur (Ps)\")\n",
    "        pressure = input(\"Pilih salah satu tekanan yang ada di atas : \") #masukkan angka 1 atau 2 dari 2 pilihan tekanan diatas yang diketahui. Pilih angka 1 jika nilai kedua data tersebut diketahui.\n",
    "        if pressure == \"1\":\n",
    "            Pr = float(input(\"Masukkan nilai Pr (psi) : \")) #masukkan nilai tekanan reservoir.\n",
    "            Pwf1 = Pr - FE * (Pr - Pwf) #rumus untuk mencari nilai tekanan bottomhole yang dipengaruhi oleh skin.\n",
    "            print(\"Didapatkan nilai Pwf1 adalah \", str(Pwf1), \" psi\") #value Pwf1 yang ditunjukkan berupa string.\n",
    "            Qmax = Q / (1 - 0.2 * (Pwf1 / Pr) - 0.8 * (Pwf1 / Pr) ** 2) #rumus korelasi standing antara laju alir dengan tekanan bottomhole dan tekanan reservoir.\n",
    "            print(\"Didapatkan nilai Qmax adalah sebesar \" + str(Qmax) + \" bpd.\") #value Qmax yang ditunjukkan berupa string.\n",
    "        \n",
    "        elif pressure == \"2\":\n",
    "            Ps = float(input(\"Masukkan nilai Ps (psi) : \")) #masukkan nilai tekanan statik sumur.\n",
    "            Pwf1 = Ps - FE * (Ps - Pwf) #rumus untuk mencari nilai tekanan bottomhole yang dipengaruhi oleh skin.\n",
    "            print(\"Didapatkan nilai Pwf1 adalah \" + str(Pwf1) + \" psi.\") #value Pwf1 yang ditunjukkan berupa string.\n",
    "            Qmax = Q / (1 - 0.2 * (Pwf1 / Ps) - 0.8 * (Pwf1 / Ps) ** 2) #rumus korelasi standing antara laju alir dengan tekanan bottomhole dan tekanan statik sumur.\n",
    "            print(\"Didapatkan nilai Qmax adalah sebesar \" + str(Qmax) + \" bpd.\") #value Qmax yang ditunjukkan berupa string.\n",
    "        \n",
    "        else: #Jika memasukkan sesuatu selain angka 1 atau 2, maka program akan diberhentikan dengan memunculkan pesan sebagai berikut. \n",
    "            return \"Maaf. Pilihan anda tidak tersedia.\" \n",
    "        \n",
    "    else: #Jika memasukkan sesuatu selain angka 1 atau 2, maka program akan diberhentikan dengan memunculkan pesan sebagai berikut. \n",
    "        return \"Maaf. Pilihan anda tidak tersedia.\""
   ]
  },
  {
   "cell_type": "code",
   "execution_count": null,
   "id": "fdbc1759",
   "metadata": {},
   "outputs": [],
   "source": []
  }
 ],
 "metadata": {
  "kernelspec": {
   "display_name": "Python 3 (ipykernel)",
   "language": "python",
   "name": "python3"
  },
  "language_info": {
   "codemirror_mode": {
    "name": "ipython",
    "version": 3
   },
   "file_extension": ".py",
   "mimetype": "text/x-python",
   "name": "python",
   "nbconvert_exporter": "python",
   "pygments_lexer": "ipython3",
   "version": "3.11.4"
  }
 },
 "nbformat": 4,
 "nbformat_minor": 5
}
